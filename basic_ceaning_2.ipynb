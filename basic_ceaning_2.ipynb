{
 "cells": [
  {
   "cell_type": "markdown",
   "id": "e5a4f9a2",
   "metadata": {},
   "source": [
    "## Basic cleaning steps"
   ]
  },
  {
   "cell_type": "code",
   "execution_count": 1,
   "id": "7a10fe05",
   "metadata": {},
   "outputs": [
    {
     "name": "stderr",
     "output_type": "stream",
     "text": [
      "[nltk_data] Downloading package punkt to\n",
      "[nltk_data]     C:\\Users\\camil\\AppData\\Roaming\\nltk_data...\n",
      "[nltk_data]   Package punkt is already up-to-date!\n"
     ]
    },
    {
     "data": {
      "text/plain": [
       "True"
      ]
     },
     "execution_count": 1,
     "metadata": {},
     "output_type": "execute_result"
    }
   ],
   "source": [
    "import pandas as pd\n",
    "import numpy as np\n",
    "from scipy import stats\n",
    "import nltk\n",
    "nltk.download('punkt')"
   ]
  },
  {
   "cell_type": "code",
   "execution_count": 2,
   "id": "b6291643",
   "metadata": {},
   "outputs": [],
   "source": [
    "df = pd.read_csv(('base_clean'))"
   ]
  },
  {
   "cell_type": "code",
   "execution_count": 3,
   "id": "0b81948c",
   "metadata": {},
   "outputs": [
    {
     "data": {
      "text/html": [
       "<div>\n",
       "<style scoped>\n",
       "    .dataframe tbody tr th:only-of-type {\n",
       "        vertical-align: middle;\n",
       "    }\n",
       "\n",
       "    .dataframe tbody tr th {\n",
       "        vertical-align: top;\n",
       "    }\n",
       "\n",
       "    .dataframe thead th {\n",
       "        text-align: right;\n",
       "    }\n",
       "</style>\n",
       "<table border=\"1\" class=\"dataframe\">\n",
       "  <thead>\n",
       "    <tr style=\"text-align: right;\">\n",
       "      <th></th>\n",
       "      <th>Unnamed: 0</th>\n",
       "      <th>date</th>\n",
       "      <th>subject</th>\n",
       "      <th>text</th>\n",
       "      <th>title</th>\n",
       "      <th>length</th>\n",
       "      <th>zscore</th>\n",
       "    </tr>\n",
       "    <tr>\n",
       "      <th>label</th>\n",
       "      <th></th>\n",
       "      <th></th>\n",
       "      <th></th>\n",
       "      <th></th>\n",
       "      <th></th>\n",
       "      <th></th>\n",
       "      <th></th>\n",
       "    </tr>\n",
       "  </thead>\n",
       "  <tbody>\n",
       "    <tr>\n",
       "      <th>Fake</th>\n",
       "      <td>19136</td>\n",
       "      <td>19136</td>\n",
       "      <td>19136</td>\n",
       "      <td>19136</td>\n",
       "      <td>19136</td>\n",
       "      <td>19136</td>\n",
       "      <td>19136</td>\n",
       "    </tr>\n",
       "    <tr>\n",
       "      <th>True</th>\n",
       "      <td>21032</td>\n",
       "      <td>21032</td>\n",
       "      <td>21032</td>\n",
       "      <td>21032</td>\n",
       "      <td>21032</td>\n",
       "      <td>21032</td>\n",
       "      <td>21032</td>\n",
       "    </tr>\n",
       "  </tbody>\n",
       "</table>\n",
       "</div>"
      ],
      "text/plain": [
       "       Unnamed: 0   date  subject   text  title  length  zscore\n",
       "label                                                          \n",
       "Fake        19136  19136    19136  19136  19136   19136   19136\n",
       "True        21032  21032    21032  21032  21032   21032   21032"
      ]
     },
     "execution_count": 3,
     "metadata": {},
     "output_type": "execute_result"
    }
   ],
   "source": [
    "df.groupby('label').count()"
   ]
  },
  {
   "cell_type": "code",
   "execution_count": 4,
   "id": "50125143",
   "metadata": {},
   "outputs": [],
   "source": [
    "## Add column with the number of words of each line\n",
    "\n",
    "df['count_words'] = df['text'].str.split().apply(len)"
   ]
  },
  {
   "cell_type": "code",
   "execution_count": 5,
   "id": "1614979f",
   "metadata": {},
   "outputs": [
    {
     "name": "stderr",
     "output_type": "stream",
     "text": [
      "C:\\Users\\camil\\AppData\\Local\\Temp/ipykernel_10852/3368884818.py:5: SettingWithCopyWarning: \n",
      "A value is trying to be set on a copy of a slice from a DataFrame.\n",
      "Try using .loc[row_indexer,col_indexer] = value instead\n",
      "\n",
      "See the caveats in the documentation: https://pandas.pydata.org/pandas-docs/stable/user_guide/indexing.html#returning-a-view-versus-a-copy\n",
      "  fake['zscore_words'] = np.abs(stats.zscore(fake['count_words']))\n",
      "C:\\Users\\camil\\AppData\\Local\\Temp/ipykernel_10852/3368884818.py:6: SettingWithCopyWarning: \n",
      "A value is trying to be set on a copy of a slice from a DataFrame.\n",
      "Try using .loc[row_indexer,col_indexer] = value instead\n",
      "\n",
      "See the caveats in the documentation: https://pandas.pydata.org/pandas-docs/stable/user_guide/indexing.html#returning-a-view-versus-a-copy\n",
      "  true['zscore_words'] = np.abs(stats.zscore(true['count_words']))\n"
     ]
    }
   ],
   "source": [
    "## Calculate each Zscore\n",
    "\n",
    "fake = df[df['label']== 'Fake']\n",
    "true = df[df['label']== 'True']\n",
    "fake['zscore_words'] = np.abs(stats.zscore(fake['count_words']))\n",
    "true['zscore_words'] = np.abs(stats.zscore(true['count_words']))\n",
    "df = true.append(fake)"
   ]
  },
  {
   "cell_type": "code",
   "execution_count": 6,
   "id": "3fd3b5ce",
   "metadata": {},
   "outputs": [],
   "source": [
    "## Remove everything that is more than 1.5 std of its group\n",
    "## Remove strings with less than 280 characters or 90 words\n",
    "\n",
    "df = df[(df['zscore'] < 1.5) & (df['zscore_words'] < 1.5) & (df['length'] > 280) & (df['count_words'] > 90)]\n",
    "df = df.drop_duplicates('text')"
   ]
  },
  {
   "cell_type": "code",
   "execution_count": 7,
   "id": "b95113bc",
   "metadata": {},
   "outputs": [],
   "source": [
    "df = df[['text', 'title', 'label']]"
   ]
  },
  {
   "cell_type": "code",
   "execution_count": 8,
   "id": "02b4ccde",
   "metadata": {},
   "outputs": [
    {
     "data": {
      "text/plain": [
       "text     29843\n",
       "title    29843\n",
       "label    29843\n",
       "dtype: int64"
      ]
     },
     "execution_count": 8,
     "metadata": {},
     "output_type": "execute_result"
    }
   ],
   "source": [
    "df.count()"
   ]
  },
  {
   "cell_type": "code",
   "execution_count": 9,
   "id": "428f843f",
   "metadata": {},
   "outputs": [],
   "source": [
    "df.to_csv('new_base_clean')"
   ]
  }
 ],
 "metadata": {
  "kernelspec": {
   "display_name": "Python 3 (ipykernel)",
   "language": "python",
   "name": "python3"
  },
  "language_info": {
   "codemirror_mode": {
    "name": "ipython",
    "version": 3
   },
   "file_extension": ".py",
   "mimetype": "text/x-python",
   "name": "python",
   "nbconvert_exporter": "python",
   "pygments_lexer": "ipython3",
   "version": "3.9.7"
  }
 },
 "nbformat": 4,
 "nbformat_minor": 5
}
