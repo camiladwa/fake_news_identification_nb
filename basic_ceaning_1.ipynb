{
 "cells": [
  {
   "cell_type": "markdown",
   "id": "e5a4f9a2",
   "metadata": {},
   "source": [
    "## Basic cleaning steps"
   ]
  },
  {
   "cell_type": "code",
   "execution_count": 1,
   "id": "7a10fe05",
   "metadata": {},
   "outputs": [
    {
     "name": "stderr",
     "output_type": "stream",
     "text": [
      "[nltk_data] Downloading package punkt to\n",
      "[nltk_data]     C:\\Users\\camil\\AppData\\Roaming\\nltk_data...\n",
      "[nltk_data]   Package punkt is already up-to-date!\n"
     ]
    },
    {
     "data": {
      "text/plain": [
       "True"
      ]
     },
     "execution_count": 1,
     "metadata": {},
     "output_type": "execute_result"
    }
   ],
   "source": [
    "import pandas as pd\n",
    "import numpy as np\n",
    "from scipy import stats\n",
    "import nltk\n",
    "nltk.download('punkt')"
   ]
  },
  {
   "cell_type": "code",
   "execution_count": 2,
   "id": "b6291643",
   "metadata": {},
   "outputs": [],
   "source": [
    "df = pd.read_csv(('Union.csv'))"
   ]
  },
  {
   "cell_type": "code",
   "execution_count": 3,
   "id": "69725940",
   "metadata": {},
   "outputs": [],
   "source": [
    "## Remove NA, format date and filter only observations from 2016 and 2017\n",
    "\n",
    "df = df.dropna(subset=['text'])\n",
    "df['date'] = pd.to_datetime(df.date)\n",
    "df = df[df['date'].between('01/01/2016', '31/12/2017')]"
   ]
  },
  {
   "cell_type": "code",
   "execution_count": 4,
   "id": "aa69ec0d",
   "metadata": {},
   "outputs": [],
   "source": [
    "## Add a column with the length of each news \n",
    "\n",
    "df['length'] = df['text'].apply(len)"
   ]
  },
  {
   "cell_type": "code",
   "execution_count": 5,
   "id": "0f1cf952",
   "metadata": {},
   "outputs": [
    {
     "name": "stderr",
     "output_type": "stream",
     "text": [
      "C:\\Users\\camil\\AppData\\Local\\Temp/ipykernel_31836/1155910603.py:5: SettingWithCopyWarning: \n",
      "A value is trying to be set on a copy of a slice from a DataFrame.\n",
      "Try using .loc[row_indexer,col_indexer] = value instead\n",
      "\n",
      "See the caveats in the documentation: https://pandas.pydata.org/pandas-docs/stable/user_guide/indexing.html#returning-a-view-versus-a-copy\n",
      "  fake['zscore'] = np.abs(stats.zscore(fake['length']))\n",
      "C:\\Users\\camil\\AppData\\Local\\Temp/ipykernel_31836/1155910603.py:6: SettingWithCopyWarning: \n",
      "A value is trying to be set on a copy of a slice from a DataFrame.\n",
      "Try using .loc[row_indexer,col_indexer] = value instead\n",
      "\n",
      "See the caveats in the documentation: https://pandas.pydata.org/pandas-docs/stable/user_guide/indexing.html#returning-a-view-versus-a-copy\n",
      "  true['zscore'] = np.abs(stats.zscore(true['length']))\n"
     ]
    }
   ],
   "source": [
    "## Calculate the Z score for both groups \n",
    "\n",
    "fake = df[df['label']== 'Fake']\n",
    "true = df[df['label']== 'True']\n",
    "fake['zscore'] = np.abs(stats.zscore(fake['length']))\n",
    "true['zscore'] = np.abs(stats.zscore(true['length']))\n",
    "df = true.append(fake)"
   ]
  },
  {
   "cell_type": "code",
   "execution_count": 6,
   "id": "3fd3b5ce",
   "metadata": {},
   "outputs": [],
   "source": [
    "## Remove everything that is more than 3 std\n",
    "## Remove strings with less than 280 characters\n",
    "df = df[(df['zscore'] < 3) & (df['length'] > 280)]"
   ]
  },
  {
   "cell_type": "code",
   "execution_count": 7,
   "id": "d27ebe3d",
   "metadata": {},
   "outputs": [],
   "source": [
    "df.to_csv('base_clean')"
   ]
  }
 ],
 "metadata": {
  "kernelspec": {
   "display_name": "Python 3 (ipykernel)",
   "language": "python",
   "name": "python3"
  },
  "language_info": {
   "codemirror_mode": {
    "name": "ipython",
    "version": 3
   },
   "file_extension": ".py",
   "mimetype": "text/x-python",
   "name": "python",
   "nbconvert_exporter": "python",
   "pygments_lexer": "ipython3",
   "version": "3.9.7"
  }
 },
 "nbformat": 4,
 "nbformat_minor": 5
}
