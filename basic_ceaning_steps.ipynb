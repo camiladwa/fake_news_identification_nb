{
 "cells": [
  {
   "cell_type": "markdown",
   "id": "e5a4f9a2",
   "metadata": {},
   "source": [
    "## Basic cleaning steps"
   ]
  },
  {
   "cell_type": "code",
   "execution_count": 1,
   "id": "7a10fe05",
   "metadata": {},
   "outputs": [
    {
     "name": "stderr",
     "output_type": "stream",
     "text": [
      "[nltk_data] Downloading package punkt to\n",
      "[nltk_data]     C:\\Users\\camil\\AppData\\Roaming\\nltk_data...\n",
      "[nltk_data]   Package punkt is already up-to-date!\n"
     ]
    },
    {
     "data": {
      "text/plain": [
       "True"
      ]
     },
     "execution_count": 1,
     "metadata": {},
     "output_type": "execute_result"
    }
   ],
   "source": [
    "import pandas as pd\n",
    "import numpy as np\n",
    "from scipy import stats\n",
    "import nltk\n",
    "nltk.download('punkt')"
   ]
  },
  {
   "cell_type": "code",
   "execution_count": 25,
   "id": "b6291643",
   "metadata": {},
   "outputs": [],
   "source": [
    "df = pd.read_csv(('Union.csv'))"
   ]
  },
  {
   "cell_type": "code",
   "execution_count": 26,
   "id": "50125143",
   "metadata": {},
   "outputs": [],
   "source": [
    "## Remove the empty texts, dates outside the range and adds \n",
    "## columns with the lenght of the text and amount of words\n",
    "\n",
    "df = df.dropna(subset=['text'])\n",
    "df = df[df['date'].between('01/01/2016', '31/12/2017')]\n",
    "df = df[['text', 'title','label']]\n",
    "df['length'] = df['text'].apply(len)\n",
    "df['count_words'] = df['text'].str.split().apply(len)"
   ]
  },
  {
   "cell_type": "code",
   "execution_count": null,
   "id": "1614979f",
   "metadata": {},
   "outputs": [],
   "source": [
    "## Calculate each Zscore\n",
    "\n",
    "fake = df[df['label']== 'Fake']\n",
    "true = df[df['label']== 'True']\n",
    "fake['zscore'] = np.abs(stats.zscore(fake['length']))\n",
    "true['zscore'] = np.abs(stats.zscore(true['length']))\n",
    "fake['zscore_words'] = np.abs(stats.zscore(fake['count_words']))\n",
    "true['zscore_words'] = np.abs(stats.zscore(true['count_words']))\n",
    "df = true.append(fake)"
   ]
  },
  {
   "cell_type": "code",
   "execution_count": 38,
   "id": "3fd3b5ce",
   "metadata": {},
   "outputs": [],
   "source": [
    "## Remove everything that is more than 1.5 std of its group\n",
    "## Remove strings with less than 280 characters or 90 words\n",
    "\n",
    "df = df[(df['zscore'] < 1.5) & (df['zscore_words'] < 1.5) & (df['length'] > 280) & (df['count_words'] > 90)]\n",
    "df = df.drop_duplicates('text')"
   ]
  },
  {
   "cell_type": "code",
   "execution_count": 40,
   "id": "b95113bc",
   "metadata": {},
   "outputs": [],
   "source": [
    "df = df[['text', 'title', 'label']]"
   ]
  },
  {
   "cell_type": "code",
   "execution_count": 41,
   "id": "428f843f",
   "metadata": {},
   "outputs": [],
   "source": [
    "df.to_csv('new_base_clean')"
   ]
  }
 ],
 "metadata": {
  "kernelspec": {
   "display_name": "Python 3 (ipykernel)",
   "language": "python",
   "name": "python3"
  },
  "language_info": {
   "codemirror_mode": {
    "name": "ipython",
    "version": 3
   },
   "file_extension": ".py",
   "mimetype": "text/x-python",
   "name": "python",
   "nbconvert_exporter": "python",
   "pygments_lexer": "ipython3",
   "version": "3.9.7"
  }
 },
 "nbformat": 4,
 "nbformat_minor": 5
}
