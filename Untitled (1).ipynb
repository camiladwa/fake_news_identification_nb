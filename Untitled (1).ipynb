{
 "cells": [
  {
   "cell_type": "code",
   "execution_count": 16,
   "id": "30837db4",
   "metadata": {},
   "outputs": [
    {
     "name": "stderr",
     "output_type": "stream",
     "text": [
      "[nltk_data] Downloading package punkt to\n",
      "[nltk_data]     /Users/camilawahrendorf/nltk_data...\n",
      "[nltk_data]   Package punkt is already up-to-date!\n"
     ]
    },
    {
     "data": {
      "text/plain": [
       "True"
      ]
     },
     "execution_count": 16,
     "metadata": {},
     "output_type": "execute_result"
    }
   ],
   "source": [
    "import pandas as pd\n",
    "from sklearn.model_selection import train_test_split\n",
    "from sklearn.feature_extraction.text import TfidfVectorizer\n",
    "from sklearn.feature_extraction.text import CountVectorizer\n",
    "from nltk.tokenize import word_tokenize\n",
    "import unidecode\n",
    "from gensim.parsing.preprocessing import remove_stopwords\n",
    "import re\n",
    "# from autocorrect import Speller\n",
    "from tqdm.notebook import tqdm\n",
    "import nltk\n",
    "from nltk.stem import WordNetLemmatizer\n",
    "nltk.download('punkt')"
   ]
  },
  {
   "cell_type": "code",
   "execution_count": 2,
   "id": "6c2c0c91",
   "metadata": {},
   "outputs": [],
   "source": [
    "df = pd.read_csv(\"new_base_clean\")"
   ]
  },
  {
   "cell_type": "code",
   "execution_count": 3,
   "id": "a835ed43",
   "metadata": {},
   "outputs": [],
   "source": [
    "X = df.text\n",
    "y = df.label"
   ]
  },
  {
   "cell_type": "code",
   "execution_count": 4,
   "id": "8d60c6de",
   "metadata": {},
   "outputs": [
    {
     "data": {
      "text/plain": [
       "0        WASHINGTON (Reuters) - The head of a conservat...\n",
       "1        WASHINGTON (Reuters) - Transgender people will...\n",
       "2        WASHINGTON (Reuters) - The special counsel inv...\n",
       "3        WASHINGTON (Reuters) - Trump campaign adviser ...\n",
       "4        WEST PALM BEACH, Fla./WASHINGTON (Reuters) - T...\n",
       "                               ...                        \n",
       "31885    21st Century Wire says It s a familiar theme. ...\n",
       "31886    21st Century Wire says Al Jazeera America will...\n",
       "31887    21st Century Wire says As 21WIRE predicted in ...\n",
       "31888    Tune in to the Alternate Current Radio Network...\n",
       "31889    21st Century Wire says It s not that far away....\n",
       "Name: text, Length: 31890, dtype: object"
      ]
     },
     "execution_count": 4,
     "metadata": {},
     "output_type": "execute_result"
    }
   ],
   "source": [
    "X"
   ]
  },
  {
   "cell_type": "code",
   "execution_count": 5,
   "id": "9c4eced5",
   "metadata": {},
   "outputs": [],
   "source": [
    "def remove_html_tags(text):\n",
    "        unicode = unidecode.unidecode(text)\n",
    "        stop = remove_stopwords(unicode)\n",
    "        twitter = re.sub(pattern=r'@[A-Za-z0-9]+',repl=' ', string=stop)\n",
    "        html = re.sub(pattern=r'<.*?>', repl=' ', string=twitter)\n",
    "        urls = re.sub(pattern=r'https?://\\S+|www\\.\\S+', repl=' ', string=html)\n",
    "        special_ch = re.sub(pattern='[^a-zA-Z]',repl=' ',string=urls)\n",
    "        special_cha= re.sub(pattern='\\[[^]]*\\]', repl=' ', string=special_ch)\n",
    "        lower = special_cha.lower()\n",
    "        return lower "
   ]
  },
  {
   "cell_type": "code",
   "execution_count": 6,
   "id": "3378d8da",
   "metadata": {},
   "outputs": [
    {
     "data": {
      "application/vnd.jupyter.widget-view+json": {
       "model_id": "a8c45622f7784aec926a1008f60f65a0",
       "version_major": 2,
       "version_minor": 0
      },
      "text/plain": [
       "  0%|          | 0/100 [00:00<?, ?it/s]"
      ]
     },
     "metadata": {},
     "output_type": "display_data"
    },
    {
     "name": "stdout",
     "output_type": "stream",
     "text": [
      "CPU times: user 4min 29s, sys: 571 ms, total: 4min 30s\n",
      "Wall time: 4min 30s\n"
     ]
    }
   ],
   "source": [
    "%%time\n",
    "for i in tqdm(range(100)): X = X.apply(remove_html_tags)\n",
    "X.to_csv('X_remove_html_tags')"
   ]
  },
  {
   "cell_type": "code",
   "execution_count": 7,
   "id": "1d426dad",
   "metadata": {},
   "outputs": [
    {
     "data": {
      "text/plain": [
       "0        washington reuters head conservative republica...\n",
       "1        washington reuters transgender people allowed ...\n",
       "2        washington reuters special counsel investigati...\n",
       "3        washington reuters trump campaign adviser geor...\n",
       "4        west palm beach fla washington reuters white h...\n",
       "                               ...                        \n",
       "31885    st century wire says s familiar theme dispute ...\n",
       "31886    st century wire says al jazeera america histor...\n",
       "31887    st century wire says wire predicted new year s...\n",
       "31888    tune alternate current radio network acr live ...\n",
       "31889    st century wire says s far away guess wants ru...\n",
       "Name: text, Length: 31890, dtype: object"
      ]
     },
     "execution_count": 7,
     "metadata": {},
     "output_type": "execute_result"
    }
   ],
   "source": [
    "X"
   ]
  },
  {
   "cell_type": "code",
   "execution_count": 8,
   "id": "9f403cd9",
   "metadata": {},
   "outputs": [],
   "source": [
    "# spell_corrector = Speller(lang='en')\n",
    "# for i in tqdm(range(100)): X = X.apply(spell_corrector)\n",
    "# X.to_csv('X')"
   ]
  },
  {
   "cell_type": "code",
   "execution_count": 9,
   "id": "635a04d8",
   "metadata": {},
   "outputs": [
    {
     "name": "stdout",
     "output_type": "stream",
     "text": [
      "CPU times: user 22 s, sys: 107 ms, total: 22.1 s\n",
      "Wall time: 22.1 s\n"
     ]
    }
   ],
   "source": [
    "%%time\n",
    "X = X.apply(lambda x: word_tokenize(x))"
   ]
  },
  {
   "cell_type": "code",
   "execution_count": 12,
   "id": "78d7821a",
   "metadata": {},
   "outputs": [
    {
     "name": "stdout",
     "output_type": "stream",
     "text": [
      "CPU times: user 17.8 s, sys: 50.1 ms, total: 17.8 s\n",
      "Wall time: 17.8 s\n"
     ]
    }
   ],
   "source": [
    "%%time\n",
    "def lemmatization(tokens):\n",
    "        lemma = WordNetLemmatizer()\n",
    "        for index in range(len(tokens)):\n",
    "            lemma_word = lemma.lemmatize(tokens[index])\n",
    "            tokens[index] = lemma_word\n",
    "        return ' '.join(tokens)\n",
    "\n",
    "X = X.apply(lemmatization)\n",
    "X.to_csv('preprocessed')"
   ]
  },
  {
   "cell_type": "code",
   "execution_count": 19,
   "id": "0ff99937",
   "metadata": {},
   "outputs": [],
   "source": [
    "X_train, X_test, y_train, y_test = train_test_split(  \n",
    "    X, y,\n",
    "    test_size= 0.30,\n",
    "    random_state= 50)"
   ]
  },
  {
   "cell_type": "code",
   "execution_count": 20,
   "id": "7baee17b",
   "metadata": {},
   "outputs": [],
   "source": [
    "tfidf = TfidfVectorizer(lowercase=False)\n",
    "tfidf_train = tfidf.fit_transform(X_train)\n",
    "tfidf_test = tfidf.transform(X_test)"
   ]
  },
  {
   "cell_type": "code",
   "execution_count": 21,
   "id": "ef71ca43",
   "metadata": {},
   "outputs": [],
   "source": [
    "count_vectorizer =  CountVectorizer(lowercase=False)\n",
    "count_train = count_vectorizer.fit_transform(X_train)\n",
    "count_test = count_vectorizer.transform(X_test)"
   ]
  },
  {
   "cell_type": "code",
   "execution_count": 22,
   "id": "57d94779",
   "metadata": {},
   "outputs": [],
   "source": [
    "from sklearn.naive_bayes import MultinomialNB"
   ]
  },
  {
   "cell_type": "code",
   "execution_count": 23,
   "id": "b2051495",
   "metadata": {},
   "outputs": [],
   "source": [
    "nb_tfidf = MultinomialNB()\n",
    "nb_tfidf.fit(tfidf_train, y_train)\n",
    "pred_tfidf = nb_tfidf.predict(tfidf_test)"
   ]
  },
  {
   "cell_type": "code",
   "execution_count": 24,
   "id": "a5357834",
   "metadata": {},
   "outputs": [],
   "source": [
    "nb_count = MultinomialNB()\n",
    "nb_count.fit(count_train, y_train)\n",
    "pred_count = nb_count.predict(count_test)"
   ]
  },
  {
   "cell_type": "code",
   "execution_count": 29,
   "id": "bb675005",
   "metadata": {},
   "outputs": [],
   "source": [
    "import matplotlib.pyplot as plt\n",
    "import seaborn as sns\n",
    "from sklearn import metrics\n",
    "from sklearn.metrics import confusion_matrix"
   ]
  },
  {
   "cell_type": "code",
   "execution_count": 30,
   "id": "af6e056f",
   "metadata": {},
   "outputs": [
    {
     "name": "stdout",
     "output_type": "stream",
     "text": [
      "Accuracy tfidf:  0.9280861294031567\n",
      "Accuracy count:  0.9419880840388837\n"
     ]
    }
   ],
   "source": [
    "print('Accuracy tfidf: ', metrics.accuracy_score(y_test, pred_tfidf))\n",
    "print('Accuracy count: ', metrics.accuracy_score(y_test, pred_count))"
   ]
  },
  {
   "cell_type": "code",
   "execution_count": 40,
   "id": "4c61b2b8",
   "metadata": {},
   "outputs": [
    {
     "data": {
      "image/png": "[encoded data removed]",
      "text/plain": [
       "<Figure size 432x432 with 1 Axes>"
      ]
     },
     "metadata": {
      "needs_background": "light"
     },
     "output_type": "display_data"
    }
   ],
   "source": [
    "from mlxtend.plotting import plot_confusion_matrix\n",
    "conf_matrix_tfidf = confusion_matrix(y_test, pred_tfidf)\n",
    "fig, ax = plot_confusion_matrix(conf_mat=conf_matrix_tfidf, figsize=(6, 6), cmap=plt.cm.Blues)\n",
    "plt.xlabel('Predictions', fontsize=18)\n",
    "plt.ylabel('Actuals', fontsize=18)\n",
    "plt.title('Confusion Matrix', fontsize=18)\n",
    "plt.show()"
   ]
  },
  {
   "cell_type": "code",
   "execution_count": 41,
   "id": "35091d73",
   "metadata": {},
   "outputs": [
    {
     "data": {
      "image/png": "[encoded data removed]",
      "text/plain": [
       "<Figure size 432x432 with 1 Axes>"
      ]
     },
     "metadata": {
      "needs_background": "light"
     },
     "output_type": "display_data"
    }
   ],
   "source": [
    "from mlxtend.plotting import plot_confusion_matrix\n",
    "conf_matrix_count = confusion_matrix(y_test, pred_count)\n",
    "fig, ax = plot_confusion_matrix(conf_mat=conf_matrix_count, figsize=(6, 6), cmap=plt.cm.Blues)\n",
    "plt.xlabel('Predictions', fontsize=18)\n",
    "plt.ylabel('Actuals', fontsize=18)\n",
    "plt.title('Confusion Matrix', fontsize=18)\n",
    "plt.show()"
   ]
  }
 ],
 "metadata": {
  "kernelspec": {
   "display_name": "Python 3 (ipykernel)",
   "language": "python",
   "name": "python3"
  },
  "language_info": {
   "codemirror_mode": {
    "name": "ipython",
    "version": 3
   },
   "file_extension": ".py",
   "mimetype": "text/x-python",
   "name": "python",
   "nbconvert_exporter": "python",
   "pygments_lexer": "ipython3",
   "version": "3.9.7"
  }
 },
 "nbformat": 4,
 "nbformat_minor": 5
}
