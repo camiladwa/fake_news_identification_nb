{
 "cells": [
  {
   "cell_type": "markdown",
   "id": "21d33a44",
   "metadata": {},
   "source": [
    "## Scenario I - No NLP cleaning steps"
   ]
  },
  {
   "cell_type": "markdown",
   "id": "b2db496c",
   "metadata": {},
   "source": [
    "#### Split the dataset into training and test and then vectorizing first using tf-idf and then count vectorization"
   ]
  },
  {
   "cell_type": "code",
   "execution_count": 1,
   "id": "7e35413f",
   "metadata": {},
   "outputs": [
    {
     "name": "stderr",
     "output_type": "stream",
     "text": [
      "[nltk_data] Downloading package punkt to\n",
      "[nltk_data]     C:\\Users\\camil\\AppData\\Roaming\\nltk_data...\n",
      "[nltk_data]   Package punkt is already up-to-date!\n"
     ]
    },
    {
     "data": {
      "text/plain": [
       "True"
      ]
     },
     "execution_count": 1,
     "metadata": {},
     "output_type": "execute_result"
    }
   ],
   "source": [
    "import pandas as pd\n",
    "from sklearn.model_selection import train_test_split\n",
    "from sklearn.feature_extraction.text import TfidfVectorizer\n",
    "from sklearn.feature_extraction.text import CountVectorizer\n",
    "from nltk.tokenize import word_tokenize\n",
    "import unidecode\n",
    "from gensim.parsing.preprocessing import remove_stopwords\n",
    "import re\n",
    "# from autocorrect import Speller\n",
    "from tqdm.notebook import tqdm\n",
    "import nltk\n",
    "from nltk.stem import WordNetLemmatizer\n",
    "nltk.download('punkt')"
   ]
  },
  {
   "cell_type": "code",
   "execution_count": 2,
   "id": "09786837",
   "metadata": {},
   "outputs": [],
   "source": [
    "## Import the file cleaned on the previous step \n",
    "\n",
    "df = pd.read_csv('new_base_clean', index_col=0)"
   ]
  },
  {
   "cell_type": "code",
   "execution_count": 3,
   "id": "64f26e87",
   "metadata": {},
   "outputs": [],
   "source": [
    "## Create a new column with only text and dropp the other columns from df dataset\n",
    "## Create a new variable only with the label\n",
    "\n",
    "X = df.text + df.title\n",
    "y = df.label"
   ]
  },
  {
   "cell_type": "markdown",
   "id": "d7615fea",
   "metadata": {},
   "source": [
    "#### Splitting the dataset and vectorizing the text"
   ]
  },
  {
   "cell_type": "code",
   "execution_count": 4,
   "id": "719cf915",
   "metadata": {},
   "outputs": [],
   "source": [
    "## Split the training and test dataset using 30% for test and 70% for training. \n",
    "## The random state is the seed that will be used for all the scenarios\n",
    "\n",
    "X_train, X_test, y_train, y_test = train_test_split(  \n",
    "    X, y,\n",
    "    test_size= 0.30,\n",
    "    random_state= 50)"
   ]
  },
  {
   "cell_type": "code",
   "execution_count": 5,
   "id": "37cd0142",
   "metadata": {},
   "outputs": [],
   "source": [
    "## fit and applies the tf-idf vectorization to the train and test dataset  \n",
    "\n",
    "tfidf = TfidfVectorizer(lowercase=False)\n",
    "tfidf_train = tfidf.fit_transform(X_train)\n",
    "tfidf_test = tfidf.transform(X_test)"
   ]
  },
  {
   "cell_type": "code",
   "execution_count": 6,
   "id": "85319da8",
   "metadata": {},
   "outputs": [],
   "source": [
    "## fit and applies count vectorization to the train and test dataset  \n",
    "\n",
    "count_vectorizer =  CountVectorizer(lowercase=False)\n",
    "count_train = count_vectorizer.fit_transform(X_train)\n",
    "count_test = count_vectorizer.transform(X_test)"
   ]
  },
  {
   "cell_type": "markdown",
   "id": "f645c2d9",
   "metadata": {},
   "source": [
    "#### Training the Algorithm"
   ]
  },
  {
   "cell_type": "code",
   "execution_count": 7,
   "id": "1dbfb33d",
   "metadata": {},
   "outputs": [],
   "source": [
    "from sklearn.naive_bayes import MultinomialNB"
   ]
  },
  {
   "cell_type": "code",
   "execution_count": 8,
   "id": "f56faf66",
   "metadata": {},
   "outputs": [],
   "source": [
    "## Fits and train the NB algorithm with the tfidf vectorized training dataset\n",
    "## Apply the algorithm to the tfidf test dataset\n",
    "\n",
    "nb_tfidf = MultinomialNB()\n",
    "nb_tfidf.fit(tfidf_train, y_train)\n",
    "pred_tfidf = nb_tfidf.predict(tfidf_test)"
   ]
  },
  {
   "cell_type": "code",
   "execution_count": 9,
   "id": "363514db",
   "metadata": {},
   "outputs": [],
   "source": [
    "## Fits and train the NB algorithm with the count vectorized training dataset\n",
    "## Apply the algorithm to the count test dataset\n",
    "\n",
    "nb_count = MultinomialNB()\n",
    "nb_count.fit(count_train, y_train)\n",
    "pred_count = nb_count.predict(count_test)"
   ]
  },
  {
   "cell_type": "markdown",
   "id": "41410c0d",
   "metadata": {},
   "source": [
    "#### Models evaluation"
   ]
  },
  {
   "cell_type": "code",
   "execution_count": 10,
   "id": "49bab1a4",
   "metadata": {},
   "outputs": [],
   "source": [
    "import matplotlib.pyplot as plt\n",
    "import seaborn as sns\n",
    "from sklearn import metrics\n",
    "from sklearn.metrics import confusion_matrix\n",
    "from sklearn.model_selection import cross_val_predict\n",
    "from sklearn.metrics import confusion_matrix\n",
    "from sklearn.metrics import plot_confusion_matrix\n",
    "from matplotlib import pyplot as plt\n"
   ]
  },
  {
   "cell_type": "code",
   "execution_count": 11,
   "id": "ac96d58c",
   "metadata": {},
   "outputs": [
    {
     "name": "stdout",
     "output_type": "stream",
     "text": [
      "Accuracy tfidf:  0.9421971359882931\n",
      "Accuracy count:  0.9544266750287447\n"
     ]
    }
   ],
   "source": [
    "print('Accuracy tfidf: ', metrics.accuracy_score(y_test, pred_tfidf))\n",
    "print('Accuracy count: ', metrics.accuracy_score(y_test, pred_count))"
   ]
  },
  {
   "cell_type": "code",
   "execution_count": 12,
   "id": "56a9f19d",
   "metadata": {},
   "outputs": [
    {
     "data": {
      "text/plain": [
       "Text(0.5, 0.98, 'Confusion Matrix')"
      ]
     },
     "execution_count": 12,
     "metadata": {},
     "output_type": "execute_result"
    },
    {
     "data": {
      "image/png": "[encoded data removed]",
      "text/plain": [
       "<Figure size 864x432 with 2 Axes>"
      ]
     },
     "metadata": {
      "needs_background": "light"
     },
     "output_type": "display_data"
    }
   ],
   "source": [
    "cm_count = confusion_matrix(y_test, pred_count)\n",
    "cm_tfidf = confusion_matrix(y_test, pred_tfidf)\n",
    "\n",
    "fig, ax =plt.subplots(1,2,figsize=(12,6))\n",
    "\n",
    "sns.heatmap(cm_count, annot=True, fmt='d', xticklabels=['FAKE', 'TRUE'], yticklabels=['FAKE', 'TRUE'], cmap=plt.cm.Blues, cbar=False, ax=ax[0])\n",
    "ax[0].set_xlabel('Predicted Label Count')\n",
    "ax[0].set_ylabel('True Label Count')\n",
    "\n",
    "sns.heatmap(cm_tfidf, annot=True, fmt='d', xticklabels=['FAKE', 'TRUE'], yticklabels=['FAKE', 'TRUE'], cmap=plt.cm.Blues, cbar=False, ax=ax[1])\n",
    "ax[1].set_xlabel('Predicted Label tfidf')\n",
    "ax[1].set_ylabel('True Label tfidf')\n",
    "\n",
    "\n",
    "fig.suptitle('Confusion Matrix')"
   ]
  },
  {
   "cell_type": "markdown",
   "id": "db92f8f1",
   "metadata": {},
   "source": [
    "#### K-fold"
   ]
  },
  {
   "cell_type": "code",
   "execution_count": 13,
   "id": "4044c220",
   "metadata": {},
   "outputs": [],
   "source": [
    "from sklearn.model_selection import KFold \n",
    "from sklearn.model_selection import cross_val_score"
   ]
  },
  {
   "cell_type": "code",
   "execution_count": 14,
   "id": "04791abf",
   "metadata": {},
   "outputs": [],
   "source": [
    "X_kfold_tfidf = tfidf.transform(df.text)"
   ]
  },
  {
   "cell_type": "code",
   "execution_count": 15,
   "id": "219513d3",
   "metadata": {},
   "outputs": [],
   "source": [
    "X_kfold_count = count_vectorizer.transform(df.text)"
   ]
  },
  {
   "cell_type": "code",
   "execution_count": 16,
   "id": "7fa5f272",
   "metadata": {},
   "outputs": [],
   "source": [
    "kfold_5_tfidf = cross_val_score(nb_tfidf , X_kfold_tfidf, y, cv = 5)\n",
    "kfold_10_tfidf = cross_val_score(nb_tfidf , X_kfold_tfidf, y, cv = 10)\n",
    "kfold_5_count = cross_val_score(nb_count , X_kfold_count, y, cv = 5)\n",
    "kfold_10_count = cross_val_score(nb_count , X_kfold_count, y, cv = 10)"
   ]
  },
  {
   "cell_type": "code",
   "execution_count": 17,
   "id": "e04e2058",
   "metadata": {
    "scrolled": true
   },
   "outputs": [
    {
     "name": "stdout",
     "output_type": "stream",
     "text": [
      "Avg accuracy kfold 5 tfidf: 0.9187519598620257\n",
      "Avg accuracy kfold 10 tfidf: 0.9245531514581373\n",
      "Avg accuracy kfold 5 Count: 0.9315145813734713\n",
      "Avg accuracy kfold 10 Count: 0.9383192223267482\n"
     ]
    }
   ],
   "source": [
    "print(\"Avg accuracy kfold 5 tfidf: {}\".format(kfold_5_tfidf.mean()))\n",
    "print(\"Avg accuracy kfold 10 tfidf: {}\".format(kfold_10_tfidf.mean()))\n",
    "print(\"Avg accuracy kfold 5 Count: {}\".format(kfold_5_count.mean()))\n",
    "print(\"Avg accuracy kfold 10 Count: {}\".format(kfold_10_count.mean()))"
   ]
  },
  {
   "cell_type": "code",
   "execution_count": 18,
   "id": "4f11c960",
   "metadata": {},
   "outputs": [],
   "source": [
    "tfidf_10_pred = cross_val_predict(nb_tfidf , X_kfold_tfidf, y, cv = 10)\n",
    "count_10_pred = cross_val_predict(nb_count , X_kfold_count, y, cv = 10)\n",
    "tfidf_5_pred = cross_val_predict(nb_tfidf , X_kfold_tfidf, y, cv = 5)\n",
    "count_5_pred = cross_val_predict(nb_count , X_kfold_count, y, cv = 5)\n",
    "\n",
    "conf_mat_tfidf_10 = confusion_matrix(y, tfidf_10_pred)\n",
    "conf_mat_count_10 = confusion_matrix(y, count_10_pred)\n",
    "conf_mat_tfidf_5 = confusion_matrix(y, tfidf_5_pred)\n",
    "conf_mat_count_5 = confusion_matrix(y, count_5_pred)"
   ]
  },
  {
   "cell_type": "code",
   "execution_count": 19,
   "id": "07151c49",
   "metadata": {},
   "outputs": [
    {
     "data": {
      "text/plain": [
       "Text(0.5, 0.98, 'Confusion Matrix')"
      ]
     },
     "execution_count": 19,
     "metadata": {},
     "output_type": "execute_result"
    },
    {
     "data": {
      "image/png": "[encoded data removed]",
      "text/plain": [
       "<Figure size 864x864 with 4 Axes>"
      ]
     },
     "metadata": {
      "needs_background": "light"
     },
     "output_type": "display_data"
    }
   ],
   "source": [
    "cm_count = confusion_matrix(y_test, pred_count)\n",
    "cm_tfidf = confusion_matrix(y_test, pred_tfidf)\n",
    "\n",
    "fig, ax = plt.subplots(2, 2,figsize=(12,12))\n",
    "\n",
    "sns.heatmap(conf_mat_tfidf_10, annot=True, fmt='d', xticklabels=['FAKE', 'TRUE'], yticklabels=['FAKE', 'TRUE'], cmap=plt.cm.Blues, cbar=False, ax=ax[0,0])\n",
    "ax[0,0].set_xlabel('Predicted Label tfidf 10 folds')\n",
    "ax[0,0].set_ylabel('True Label tfidf 10 folds')\n",
    "\n",
    "sns.heatmap(conf_mat_count_10, annot=True, fmt='d', xticklabels=['FAKE', 'TRUE'], yticklabels=['FAKE', 'TRUE'], cmap=plt.cm.Blues, cbar=False, ax=ax[1,0])\n",
    "ax[1,0].set_xlabel('Predicted Label count 10 folds')\n",
    "ax[1,0].set_ylabel('True Label count 10 folds')\n",
    "\n",
    "sns.heatmap(conf_mat_tfidf_5, annot=True, fmt='d', xticklabels=['FAKE', 'TRUE'], yticklabels=['FAKE', 'TRUE'], cmap=plt.cm.Blues, cbar=False, ax=ax[1,1])\n",
    "ax[1,1].set_xlabel('Predicted Label tfidf 5 folds')\n",
    "ax[1,1].set_ylabel('True Label tfidf 5 folds')\n",
    "\n",
    "sns.heatmap(conf_mat_count_5, annot=True, fmt='d', xticklabels=['FAKE', 'TRUE'], yticklabels=['FAKE', 'TRUE'], cmap=plt.cm.Blues, cbar=False, ax=ax[0,1])\n",
    "ax[0,1].set_xlabel('Predicted Label count 5 folds')\n",
    "ax[0,1].set_ylabel('True Label count 5 folds')\n",
    "\n",
    "\n",
    "fig.suptitle('Confusion Matrix')"
   ]
  }
 ],
 "metadata": {
  "kernelspec": {
   "display_name": "Python 3 (ipykernel)",
   "language": "python",
   "name": "python3"
  },
  "language_info": {
   "codemirror_mode": {
    "name": "ipython",
    "version": 3
   },
   "file_extension": ".py",
   "mimetype": "text/x-python",
   "name": "python",
   "nbconvert_exporter": "python",
   "pygments_lexer": "ipython3",
   "version": "3.9.7"
  }
 },
 "nbformat": 4,
 "nbformat_minor": 5
}
